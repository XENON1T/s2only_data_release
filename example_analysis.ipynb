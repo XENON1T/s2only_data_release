{
 "cells": [
  {
   "cell_type": "markdown",
   "metadata": {},
   "source": [
    "# XENON1T S2-only: results for custom energy spectra"
   ]
  },
  {
   "cell_type": "markdown",
   "metadata": {},
   "source": [
    "_May 2020, XENON collaboration_"
   ]
  },
  {
   "cell_type": "markdown",
   "metadata": {},
   "source": [
    "This notebook shows how to derive limits on custom dark matter signal models with XENON1T's S2-only data. If you use this notebook, or the provided data, please cite our paper:\n",
    "  * Aprile, E. _et al._ (XENON collaboration), [Phys. Rev. Lett. 123, 251801](https://journals.aps.org/prl/abstract/10.1103/PhysRevLett.123.251801) (2019).\n",
    "\n",
    "The notebook does not replace the full analysis performed by XENON1T, and omits some elements that would be difficult to distribute. However, as shown below, it is designed to provide a highly accurate approximation.\n",
    "\n",
    "For questions and comments, please contact contact@xenon1t.org."
   ]
  },
  {
   "cell_type": "markdown",
   "metadata": {},
   "source": [
    "## §1. Load the response functions and binning"
   ]
  },
  {
   "cell_type": "code",
   "execution_count": 1,
   "metadata": {},
   "outputs": [],
   "source": [
    "import numpy as np\n",
    "import pandas as pd\n",
    "from scipy import interpolate, integrate\n",
    "\n",
    "import matplotlib\n",
    "import matplotlib.pyplot as plt\n",
    "%matplotlib inline"
   ]
  },
  {
   "cell_type": "code",
   "execution_count": 2,
   "metadata": {},
   "outputs": [],
   "source": [
    "# Load response matrix and energies\n",
    "response_df = pd.read_csv('s2_response_nr.csv')\n",
    "response_matrix = response_df.values[:,3:]\n",
    "energy_kev = response_df['energy_kev'].values\n",
    "\n",
    "# We simulated mono-energetic signals. To construct models,\n",
    "# we have to weight them by a d(energy), i.e. a width.\n",
    "energy_bin_starts_kev = response_df['energy_bin_start_kev'].values\n",
    "energy_bin_end_kev = response_df['energy_bin_end_kev'].values\n",
    "energy_bin_width_kev = energy_bin_end_kev - energy_bin_starts_kev\n",
    "\n",
    "# Load S2 binning\n",
    "binning_df = pd.read_csv('s2_binning_info.csv')\n",
    "s2_bin_centers = binning_df['log_center_pe'].values\n",
    "s2_bin_widths = (binning_df['end_pe'] - binning_df['start_pe']).values\n",
    "s2_bin_edges = np.concatenate([binning_df['start_pe'].values, [binning_df['end_pe'].iloc[-1]]])"
   ]
  },
  {
   "cell_type": "markdown",
   "metadata": {},
   "source": [
    "## §2. Compute the energy spectrum"
   ]
  },
  {
   "cell_type": "markdown",
   "metadata": {},
   "source": [
    "If you are a phenomenologist, insert your amazing dark matter candidate model here. \n",
    "\n",
    "For this example, we will use a 4 GeV/c^2 spin-independent elastic WIMP spectrum, computed using the `wimprates` package (available on pypi / pip install). As a reference cross-section, we'll use 1 zb or $10^{-45} \\mathrm{cm^2}$."
   ]
  },
  {
   "cell_type": "code",
   "execution_count": 3,
   "metadata": {},
   "outputs": [
    {
     "name": "stderr",
     "output_type": "stream",
     "text": [
      "/home/aalbers/miniconda/envs/py37/lib/python3.7/site-packages/ipykernel_launcher.py:8: MatplotlibDeprecationWarning: Passing the drawstyle with the linestyle as a single string is deprecated since Matplotlib 3.1 and support will be removed in 3.3; please pass the drawstyle separately using the drawstyle keyword argument to Line2D or set_drawstyle() method (or ds/set_ds()).\n",
      "  \n"
     ]
    },
    {
     "data": {
      "text/plain": [
       "(0.4, 10)"
      ]
     },
     "execution_count": 3,
     "metadata": {},
     "output_type": "execute_result"
    },
    {
     "data": {
      "image/png": "[encoded data removed]",
      "text/plain": [
       "<Figure size 432x288 with 1 Axes>"
      ]
     },
     "metadata": {
      "needs_background": "light"
     },
     "output_type": "display_data"
    }
   ],
   "source": [
    "import wimprates as wr\n",
    "reference_cross_section = 1e-45  # cm^2\n",
    "rate_pertonneyearkev = wr.rate_wimp_std(\n",
    "    es=energy_kev, \n",
    "    mw=4, \n",
    "    sigma_nucleon=reference_cross_section)\n",
    "\n",
    "plt.plot(energy_kev, rate_pertonneyearkev, linestyle='steps-mid')\n",
    "plt.xlabel(\"Nuclear recoil energy [keV]\")\n",
    "plt.ylabel(\"Expected recoils / (tonne year keV)\")\n",
    "plt.yscale('log')\n",
    "plt.xscale('log')\n",
    "plt.xlim(0.4, 10)"
   ]
  },
  {
   "cell_type": "markdown",
   "metadata": {},
   "source": [
    "## §3. Convert to expected measured S2 rate"
   ]
  },
  {
   "cell_type": "markdown",
   "metadata": {},
   "source": [
    "First, we muliply by the energy bin weight and the total exposure:"
   ]
  },
  {
   "cell_type": "code",
   "execution_count": 4,
   "metadata": {},
   "outputs": [],
   "source": [
    "rate_pertonneyear = rate_pertonneyearkev * energy_bin_width_kev\n",
    "rate_before_cutoff = rate_pertonneyear * 0.97678   # tonne year"
   ]
  },
  {
   "cell_type": "markdown",
   "metadata": {},
   "source": [
    "See the README.md file for more details on how the total exposure in the last line is derived. Of course this is not the **effective** exposure; we have many event selection cuts. These, together with the LXe and detector response, are accounted for in the response model, which we will apply in a moment.\n",
    "\n",
    "The response model does **not** include any recoil energy cutoffs (so you can vary the cutoff if you want). For NRs, we applied a 0.7 keV energy cutoff in our paper. Let's apply that here."
   ]
  },
  {
   "cell_type": "code",
   "execution_count": 5,
   "metadata": {},
   "outputs": [],
   "source": [
    "recoil_energy_cutoff_kev = 0.7\n",
    "rate_after_cutoff = rate_before_cutoff.copy()\n",
    "\n",
    "# Which bin contains the cutoff?\n",
    "cutoff_bin_index = (energy_bin_starts_kev < recoil_energy_cutoff_kev).sum() - 1\n",
    "\n",
    "# Zero the spectrum in earlier bins\n",
    "rate_after_cutoff[:cutoff_bin_index] = 0\n",
    "\n",
    "# Suppress the spectrum proportionally in the bin with the cutoff\n",
    "suppress_by = (\n",
    "    (recoil_energy_cutoff_kev - energy_bin_starts_kev[cutoff_bin_index]) \n",
    "    / energy_bin_width_kev[cutoff_bin_index])\n",
    "assert 0 <= suppress_by <= 1\n",
    "rate_after_cutoff[cutoff_bin_index] *= 1 - suppress_by"
   ]
  },
  {
   "cell_type": "code",
   "execution_count": 6,
   "metadata": {},
   "outputs": [
    {
     "name": "stderr",
     "output_type": "stream",
     "text": [
      "/home/aalbers/miniconda/envs/py37/lib/python3.7/site-packages/ipykernel_launcher.py:1: MatplotlibDeprecationWarning: Passing the drawstyle with the linestyle as a single string is deprecated since Matplotlib 3.1 and support will be removed in 3.3; please pass the drawstyle separately using the drawstyle keyword argument to Line2D or set_drawstyle() method (or ds/set_ds()).\n",
      "  \"\"\"Entry point for launching an IPython kernel.\n",
      "/home/aalbers/miniconda/envs/py37/lib/python3.7/site-packages/ipykernel_launcher.py:2: MatplotlibDeprecationWarning: Passing the drawstyle with the linestyle as a single string is deprecated since Matplotlib 3.1 and support will be removed in 3.3; please pass the drawstyle separately using the drawstyle keyword argument to Line2D or set_drawstyle() method (or ds/set_ds()).\n",
      "  \n"
     ]
    },
    {
     "data": {
      "text/plain": [
       "(0.4, 10)"
      ]
     },
     "execution_count": 6,
     "metadata": {},
     "output_type": "execute_result"
    },
    {
     "data": {
      "image/png": "[encoded data removed]",
      "text/plain": [
       "<Figure size 432x288 with 1 Axes>"
      ]
     },
     "metadata": {
      "needs_background": "light"
     },
     "output_type": "display_data"
    }
   ],
   "source": [
    "plt.plot(energy_kev, rate_before_cutoff, linestyle='steps-mid', label='Before cutoff')\n",
    "plt.plot(energy_kev, rate_after_cutoff, linestyle='steps-mid', label='After cutoff')\n",
    "plt.axvline(recoil_energy_cutoff_kev, linestyle='--', c='r', label='Cutoff')\n",
    "plt.legend(loc='best')\n",
    "plt.xlabel(\"Nuclear recoil energy [keV]\")\n",
    "plt.ylabel(\"Expected recoils / (energy bin)\")\n",
    "plt.yscale('log')\n",
    "plt.xscale('log')\n",
    "plt.xlim(0.4, 10)"
   ]
  },
  {
   "cell_type": "markdown",
   "metadata": {},
   "source": [
    "Finally, take the dot product with the response matrix:"
   ]
  },
  {
   "cell_type": "code",
   "execution_count": 7,
   "metadata": {},
   "outputs": [
    {
     "name": "stderr",
     "output_type": "stream",
     "text": [
      "/home/aalbers/miniconda/envs/py37/lib/python3.7/site-packages/ipykernel_launcher.py:10: MatplotlibDeprecationWarning: Passing the drawstyle with the linestyle as a single string is deprecated since Matplotlib 3.1 and support will be removed in 3.3; please pass the drawstyle separately using the drawstyle keyword argument to Line2D or set_drawstyle() method (or ds/set_ds()).\n",
      "  # Remove the CWD from sys.path while we load stuff.\n"
     ]
    },
    {
     "data": {
      "text/plain": [
       "(0, 0.0017664119392907208)"
      ]
     },
     "execution_count": 7,
     "metadata": {},
     "output_type": "execute_result"
    },
    {
     "data": {
      "image/png": "[encoded data removed]",
      "text/plain": [
       "<Figure size 432x288 with 1 Axes>"
      ]
     },
     "metadata": {
      "needs_background": "light"
     },
     "output_type": "display_data"
    }
   ],
   "source": [
    "rate_final = np.dot(response_matrix.T, rate_after_cutoff)\n",
    "\n",
    "def s2_xaxis():\n",
    "    plt.xscale('log')\n",
    "    plt.xticks([90, 120, 150, 200, 500, 1000, 3000])\n",
    "    plt.xlim(90, 3000)\n",
    "    plt.gca().xaxis.set_major_formatter(matplotlib.ticker.ScalarFormatter())\n",
    "    plt.xlabel(\"S2 area [PE]\")\n",
    "    \n",
    "plt.plot(s2_bin_centers, rate_final, linestyle='steps-mid')\n",
    "plt.ylabel(\"Expected events / (S2 bin)\")\n",
    "s2_xaxis()\n",
    "plt.ylim(0, None)"
   ]
  },
  {
   "cell_type": "markdown",
   "metadata": {},
   "source": [
    "**Do not compare this to figure 4 in the paper.** Figure 4 showed event rates scaled by the effective exposure, in very large bins. The plot right here shows the unscaled event count in very narrow bins.\n",
    "\n",
    "Moreover, it is NOT possible to recreate figure 4 with the information provided here. The 'effective exposure' used to make figure 4 was the exposure averaged over z at constant S2. We chose to scale by this because it does not reference an underlying model or true energy. However, such a quantity never appears in the calculation of expected event counts for any physical model. Figure 1 instead gives the effective exposure for specific true energies, averaged over S2 and z; this information is included in the response matrices provided here. "
   ]
  },
  {
   "cell_type": "markdown",
   "metadata": {},
   "source": [
    "## §4. ROI choice and limit setting"
   ]
  },
  {
   "cell_type": "markdown",
   "metadata": {},
   "source": [
    "You now need to choose an S2 region of interest (ROI) for comparison with data. You have several options:\n",
    "\n",
    "**1.** If you do not want to think about this issue, or if your model has most of its response at low S2s, stick to our [165.3, 271.7] PE ROI.\n",
    "  \n",
    "**2.** If your model has a significant response at higher S2s, you will get better results with a different ROI.\n",
    "  * **2A:** We list many ROIs in the limit datafiles, for different WIMP masses, models, and several mono-energetic peaks (for dark photons and ALPs). You could compare your model's response to one of these reference models, see which matches best, and use its ROI.\n",
    "  * **2B:** Alternatively, you can choose a completely new ROI, e.g. by trying to approximate our procedure. This is more work, and you will need some extra info.\n",
    "  \n",
    "Whatever you do, do NOT just choose the ROI that gives you the best results! We chose our ROIs before even looking at the search data.\n",
    "  \n",
    "Here, we assume you chose one of our ROIs, i.e. option **[1]** or **[2A]**. We'll briefly discuss **[2B]** in the next section."
   ]
  },
  {
   "cell_type": "code",
   "execution_count": 8,
   "metadata": {},
   "outputs": [],
   "source": [
    "s2_roi = (165.3, 271.7)"
   ]
  },
  {
   "cell_type": "markdown",
   "metadata": {},
   "source": [
    "You now want to count the expected number of events in the ROI. Since we have quite a few S2 bins, a naive calculation is reasonable:"
   ]
  },
  {
   "cell_type": "code",
   "execution_count": 9,
   "metadata": {},
   "outputs": [
    {
     "data": {
      "text/plain": [
       "0.037718471821271776"
      ]
     },
     "execution_count": 9,
     "metadata": {},
     "output_type": "execute_result"
    }
   ],
   "source": [
    "mask = (s2_roi[0] <= s2_bin_centers) & (s2_bin_centers <= s2_roi[1])\n",
    "expected_events = rate_final[mask].sum()\n",
    "expected_events"
   ]
  },
  {
   "cell_type": "markdown",
   "metadata": {},
   "source": [
    "But feel free to interpolate/integrate:"
   ]
  },
  {
   "cell_type": "code",
   "execution_count": 10,
   "metadata": {},
   "outputs": [
    {
     "name": "stdout",
     "output_type": "stream",
     "text": [
      "0.03822934845106809 1.2621799818834301e-05\n"
     ]
    },
    {
     "name": "stderr",
     "output_type": "stream",
     "text": [
      "/home/aalbers/miniconda/envs/py37/lib/python3.7/site-packages/ipykernel_launcher.py:2: IntegrationWarning: The maximum number of subdivisions (50) has been achieved.\n",
      "  If increasing the limit yields no improvement it is advised to analyze \n",
      "  the integrand in order to determine the difficulties.  If the position of a \n",
      "  local difficulty can be determined (singularity, discontinuity) one will \n",
      "  probably gain from splitting up the interval and calling the integrator \n",
      "  on the subranges.  Perhaps a special-purpose integrator should be used.\n",
      "  \n"
     ]
    }
   ],
   "source": [
    "f = interpolate.interp1d(s2_bin_centers, rate_final / s2_bin_widths)\n",
    "expected_events, integration_error = integrate.quad(f, *s2_roi)\n",
    "\n",
    "print(expected_events, integration_error/expected_events)"
   ]
  },
  {
   "cell_type": "markdown",
   "metadata": {},
   "source": [
    "Since you picked one of the ROIs from our paper, you can look up the limit in terms of number of signal events.\n",
    "\n",
    "For this ROI, we derived limits of **24.6 - 24.8 signal events** for different models.\n",
    "  * The tiny spread is due to slightly different impacts of our uncertainties for different models that have different distributions within the small S2 ROI.\n",
    "  * If you would like more details on how this limit is derived from the observed data, please see the paper. You do not need these details for the computation here.\n",
    "\n",
    "Computing the limit is now easy:"
   ]
  },
  {
   "cell_type": "code",
   "execution_count": 11,
   "metadata": {},
   "outputs": [
    {
     "data": {
      "text/plain": [
       "6.461004699469291e-43"
      ]
     },
     "execution_count": 11,
     "metadata": {},
     "output_type": "execute_result"
    }
   ],
   "source": [
    "24.7 * reference_cross_section / expected_events"
   ]
  },
  {
   "cell_type": "markdown",
   "metadata": {},
   "source": [
    "For comparison, the full calculation with XENON1T's framework gives $6.4367 \\times 10^{-43} \\mathrm{cm}^2$, as you can get from the supplemental CSVs. \n",
    "\n",
    "Thus, for this signal model, we reproduce our limit to within 1%. We give no guarantees this is true for all signal models, particularly signal models with energy spectra that drop very steeply compared to the provided energy binning."
   ]
  },
  {
   "cell_type": "markdown",
   "metadata": {},
   "source": [
    "## §5. Optional: choosing a custom ROI"
   ]
  },
  {
   "cell_type": "markdown",
   "metadata": {},
   "source": [
    "It is by far the simplest to choose one of the ROIs we also used, as discussed above.\n",
    "\n",
    "We chose ROIs before examining the search data. Specifically, we chose S2 ROIs that gave the lowest limit for each model on a disjoint training set, which was not re-used for setting the actual dark matter limits. The ROIs also had to obey several constraints (to contain sufficient signal, and not include < 150 PE events) as detailed in the paper.\n",
    "\n",
    "This data release has information to approximately (but not exactly) repeat this construction. You will need to do your own counting experiment limit setting in the presence of a background, and scan over different ROIs. A full example is beyond the scope of this notebook.\n",
    "\n",
    "Here, we just show how to load the two other pieces of data provided to help those who want to go down this road."
   ]
  },
  {
   "cell_type": "markdown",
   "metadata": {},
   "source": [
    "#### Observed events"
   ]
  },
  {
   "cell_type": "code",
   "execution_count": 12,
   "metadata": {},
   "outputs": [
    {
     "data": {
      "text/plain": [
       "(0, 10.5)"
      ]
     },
     "execution_count": 12,
     "metadata": {},
     "output_type": "execute_result"
    },
    {
     "data": {
      "image/png": "[encoded data removed]",
      "text/plain": [
       "<Figure size 432x288 with 1 Axes>"
      ]
     },
     "metadata": {
      "needs_background": "light"
     },
     "output_type": "display_data"
    }
   ],
   "source": [
    "from multihist import Hist1d\n",
    "s2s = pd.read_csv('events_after_cuts.csv')['s2_area_pe'].values\n",
    "s2s_train = pd.read_csv('events_after_cuts_training.csv')['s2_area_pe'].values\n",
    "\n",
    "Hist1d(s2s, bins=s2_bin_edges).plot(c='k', label='Search data')\n",
    "Hist1d(s2s_train, bins=s2_bin_edges).plot(c='r', label='Training data')\n",
    "plt.legend(loc='upper right', frameon=False)\n",
    "s2_xaxis()\n",
    "plt.ylabel(\"Events / bin\")\n",
    "plt.ylim(0, None)"
   ]
  },
  {
   "cell_type": "markdown",
   "metadata": {},
   "source": [
    "In our ROI for low-mass models, there are (as mentioned above) 16 events in the search data:"
   ]
  },
  {
   "cell_type": "code",
   "execution_count": 13,
   "metadata": {},
   "outputs": [
    {
     "data": {
      "text/plain": [
       "16"
      ]
     },
     "execution_count": 13,
     "metadata": {},
     "output_type": "execute_result"
    }
   ],
   "source": [
    "sum((s2_roi[0] <= s2s) & (s2s <= s2_roi[1]))"
   ]
  },
  {
   "cell_type": "markdown",
   "metadata": {},
   "source": [
    "As you can see in red in the figure above, we also provided the training data events. Recall that the total exposure of the training dataset is 3/7th that of the search data (i.e. 0.41862 tonne year)."
   ]
  },
  {
   "cell_type": "markdown",
   "metadata": {},
   "source": [
    "#### Background models"
   ]
  },
  {
   "cell_type": "markdown",
   "metadata": {},
   "source": [
    "Only the ER and CEvNS background models can be conveniently distributed, since the cathode background model is estimated by a data-driven method that depends on the ROI and several control samples (see the paper's supplemental material).\n",
    "\n",
    "The provided background models have all detector and analysis effects and efficiencies included. Thus, you do not need to apply any response model to them. "
   ]
  },
  {
   "cell_type": "code",
   "execution_count": 14,
   "metadata": {},
   "outputs": [
    {
     "data": {
      "text/plain": [
       "(0, 0.32751625684000896)"
      ]
     },
     "execution_count": 14,
     "metadata": {},
     "output_type": "execute_result"
    },
    {
     "data": {
      "image/png": "[encoded data removed]",
      "text/plain": [
       "<Figure size 432x288 with 1 Axes>"
      ]
     },
     "metadata": {
      "needs_background": "light"
     },
     "output_type": "display_data"
    }
   ],
   "source": [
    "df_bg = pd.read_csv('er_and_cevns_background.csv')\n",
    "plt.plot(s2_bin_centers, df_bg['er_background_events'])\n",
    "plt.plot(s2_bin_centers, df_bg['cevns_background_events'])\n",
    "s2_xaxis()\n",
    "plt.ylabel(\"Events / bin\")\n",
    "plt.ylim(0, None)"
   ]
  },
  {
   "cell_type": "markdown",
   "metadata": {},
   "source": [
    "The (10-20%) uncertainties on the models are not straightforward to distribute; they are highly correlated across S2 bins due to their origin in e.g. cut acceptance and signal model uncertainties.\n",
    "\n",
    "Please see the note at the end of §3 on why this can NOT be compared to figure 4 in the paper."
   ]
  }
 ],
 "metadata": {
  "kernelspec": {
   "display_name": "Python 3",
   "language": "python",
   "name": "python3"
  },
  "language_info": {
   "codemirror_mode": {
    "name": "ipython",
    "version": 3
   },
   "file_extension": ".py",
   "mimetype": "text/x-python",
   "name": "python",
   "nbconvert_exporter": "python",
   "pygments_lexer": "ipython3",
   "version": "3.7.6"
  }
 },
 "nbformat": 4,
 "nbformat_minor": 4
}
